{
 "metadata": {
  "name": "",
  "signature": "sha256:25e5c8d3ec47e36efc6a02a533c9965297ba089dd322f3bae7d443d741aa8be3"
 },
 "nbformat": 3,
 "nbformat_minor": 0,
 "worksheets": [
  {
   "cells": [
    {
     "cell_type": "heading",
     "level": 1,
     "metadata": {},
     "source": [
      "Pipeline for WABI 2014"
     ]
    },
    {
     "cell_type": "heading",
     "level": 2,
     "metadata": {},
     "source": [
      "Non standard program requirements:"
     ]
    },
    {
     "cell_type": "markdown",
     "metadata": {},
     "source": [
      "*  [LSG](https://github.com/AlgoLab/LightStringGraph)\n",
      "*  patched [BEETL](https://github.com/AlgoLab/BEETL) to correctly compute the LCP\n",
      "*  patched [SGA](https://github.com/jts/sga) to avoid considering reverse and reverse-complemented reads\n",
      "\n",
      "Standard program requirements (Ubuntu 12.04):"
     ]
    },
    {
     "cell_type": "code",
     "collapsed": false,
     "input": [
      "requirements = \"build-essential g++-4.8 wget xz-utils\"\n",
      "!dpkg -l  {requirements} || sudo apt-get -y install {requirements}"
     ],
     "language": "python",
     "metadata": {},
     "outputs": []
    },
    {
     "cell_type": "heading",
     "level": 2,
     "metadata": {},
     "source": [
      "Data requirements:"
     ]
    },
    {
     "cell_type": "markdown",
     "metadata": {},
     "source": [
      "Prepare the directory structure"
     ]
    },
    {
     "cell_type": "code",
     "collapsed": false,
     "input": [
      "base = \"~/Experiments/LSG\"\n",
      "bin    = base + \"/progrs\"\n",
      "input  = base + \"/input-data/reads\"\n",
      "output = base + \"/output\"\n",
      "sgadir = base + \"/sga\"\n",
      "%cd {base}"
     ],
     "language": "python",
     "metadata": {},
     "outputs": []
    },
    {
     "cell_type": "code",
     "collapsed": false,
     "input": [
      "!mkdir -p input-data/bwts input-data/reads output progrs sga"
     ],
     "language": "python",
     "metadata": {},
     "outputs": []
    },
    {
     "cell_type": "code",
     "collapsed": false,
     "input": [
      "fafile = \"pp.250k.filter.pass.fa\"\n",
      "inputfile = \"input-data/reads/\" + fafile"
     ],
     "language": "python",
     "metadata": {},
     "outputs": []
    },
    {
     "cell_type": "code",
     "collapsed": false,
     "input": [
      "!test -f {inputfile} || curl http://files.figshare.com/1524526/{fafile}.xz -o {inputfile}.xz\n",
      "!test -f {inputfile}.xz && unxz {inputfile}.xz\n",
      "fa = \"output/\" + fafile\n",
      "!ln -s ../{inputfile} {fa}\n",
      "!ln -s ../{inputfile} sga/{fafile}"
     ],
     "language": "python",
     "metadata": {},
     "outputs": []
    },
    {
     "cell_type": "heading",
     "level": 4,
     "metadata": {},
     "source": [
      "Run BEETL to compute BWT and LCP"
     ]
    },
    {
     "cell_type": "code",
     "collapsed": false,
     "input": [
      "!time {bin}/beetl-bwt --verbosity quiet -i {inputfile} -a ext --generate-lcp -o output/{fafile} --output-format ASCII"
     ],
     "language": "python",
     "metadata": {},
     "outputs": []
    },
    {
     "cell_type": "heading",
     "level": 4,
     "metadata": {},
     "source": [
      "Run LSG"
     ]
    },
    {
     "cell_type": "code",
     "collapsed": false,
     "input": [
      "lsgbin = bin + \"/LightStringGraph/bin/\"\n",
      "!ulimit -v 12582912\n",
      "!{lsgbin}/lsg -B {fa} -T 65 -C 26"
     ],
     "language": "python",
     "metadata": {},
     "outputs": []
    },
    {
     "cell_type": "code",
     "collapsed": false,
     "input": [
      "!time {lsgbin}/sgbuild -b {fa} -m 26 -l 90 -r {fa} -c -x | gzip -c > {fa}.outlsg.exhaustive.asqg.gz"
     ],
     "language": "python",
     "metadata": {},
     "outputs": []
    },
    {
     "cell_type": "code",
     "collapsed": false,
     "input": [
      "!time {lsgbin}/redbuild -b {fa} -m 26 -g 1000000"
     ],
     "language": "python",
     "metadata": {},
     "outputs": []
    },
    {
     "cell_type": "code",
     "collapsed": false,
     "input": [
      "!time {lsgbin}/graph2asqg -b {fa} -l 90 -r {fa} > {fa}.outlsg.reduced.asqg"
     ],
     "language": "python",
     "metadata": {},
     "outputs": []
    },
    {
     "cell_type": "heading",
     "level": 4,
     "metadata": {},
     "source": [
      "SGA"
     ]
    },
    {
     "cell_type": "code",
     "collapsed": false,
     "input": [
      "%cd {sgadir}\n",
      "!{bin}/sga-1way index -a ropebwt {fafile}"
     ],
     "language": "python",
     "metadata": {},
     "outputs": []
    },
    {
     "cell_type": "code",
     "collapsed": false,
     "input": [
      "!time {bin}/sga-1way overlap -m 65 {fafile}"
     ],
     "language": "python",
     "metadata": {},
     "outputs": []
    }
   ],
   "metadata": {}
  }
 ]
}